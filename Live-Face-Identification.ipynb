{
 "cells": [
  {
   "cell_type": "markdown",
   "metadata": {},
   "source": [
    "### Imports and Constants"
   ]
  },
  {
   "cell_type": "code",
   "execution_count": 1,
   "metadata": {},
   "outputs": [],
   "source": [
    "import numpy as np\n",
    "import cv2\n",
    "import os\n",
    "from PIL import Image\n",
    "import pickle\n",
    "import pyautogui\n",
    "\n",
    "VIDEONAME = \"LiveFaceRecognition.mp4\"\n",
    "FRAMES_PER_SECOND = 24.0\n",
    "RESOLUTION = \"720p\""
   ]
  },
  {
   "cell_type": "markdown",
   "metadata": {},
   "source": [
    "### Video Settings"
   ]
  },
  {
   "cell_type": "code",
   "execution_count": 2,
   "metadata": {},
   "outputs": [],
   "source": [
    "def change_res(cap, width, height):\n",
    "    cap.set(cv2.CAP_PROP_FRAME_WIDTH, width)\n",
    "    cap.set(cv2.CAP_PROP_FRAME_HEIGHT, height)\n",
    "\n",
    "# dictionary of the standard dimensions for the resolution\n",
    "STANDARD_DIMENSIONS = {\n",
    "    \"480p\": (640, 480),\n",
    "    \"720p\": (1280, 720)\n",
    "}\n",
    "\n",
    "def get_dims(cap, res):\n",
    "    width, height = STANDARD_DIMENSIONS[\"480p\"]\n",
    "    if res in STANDARD_DIMENSIONS:\n",
    "        width, height = STANDARD_DIMENSIONS[res]\n",
    "    change_res(cap, width, height)\n",
    "    \n",
    "    return width, height\n",
    "\n",
    "# dictoniary of the videotypes\n",
    "VIDEO_TYPE = {\n",
    "    \"avi\": cv2.VideoWriter_fourcc(*'XVID'),\n",
    "    \"mp4\": cv2.VideoWriter_fourcc(*'XVID')\n",
    "}\n",
    "\n",
    "def get_video_type(filename):\n",
    "    filename, ext = os.path.splitext(filename)\n",
    "    if ext in VIDEO_TYPE:\n",
    "        return VIDEO_TYPE[ext]\n",
    "    return VIDEO_TYPE[\"mp4\"]"
   ]
  },
  {
   "cell_type": "markdown",
   "metadata": {},
   "source": [
    "### Mouse Movement Function"
   ]
  },
  {
   "cell_type": "code",
   "execution_count": 3,
   "metadata": {},
   "outputs": [],
   "source": [
    "def MoveMouse(XPos, YPos):\n",
    "    \n",
    "    xPos = XPos\n",
    "    \n",
    "    TopBarDelayPx = 31 # that bar with the name of the program at the top\n",
    "    yPos = YPos + TopBarDelayPx\n",
    "    \n",
    "    pyautogui.moveTo(XPos, YPos)"
   ]
  },
  {
   "cell_type": "markdown",
   "metadata": {},
   "source": [
    "## The Actual Logic"
   ]
  },
  {
   "cell_type": "code",
   "execution_count": 4,
   "metadata": {},
   "outputs": [],
   "source": [
    "face_cascade = cv2.CascadeClassifier('data/cascades/haarcascade_frontalface_alt.xml')\n",
    "recognizer = cv2.face.LBPHFaceRecognizer_create()\n",
    "recognizer.read(\"trainer.yml\")\n",
    "\n",
    "with open(\"labels.pickle\", \"rb\") as f:\n",
    "    original_labels = pickle.load(f)\n",
    "    labels = {v: k for k, v in original_labels.items()}\n",
    "cap = cv2.VideoCapture(0)\n",
    "\n",
    "\n",
    "\n",
    "# Changes video resolution\n",
    "dims = get_dims(cap, RESOLUTION)\n",
    "\n",
    "while(True):\n",
    "    # Capture frame-by-frame\n",
    "    ret, frame = cap.read()\n",
    "    \n",
    "    # need gray to make face_cascade work\n",
    "    gray = cv2.cvtColor(frame, cv2.COLOR_BGR2GRAY)\n",
    "    faces = face_cascade.detectMultiScale(gray, scaleFactor = 1.5, minNeighbors = 5)\n",
    "    \n",
    "    # face recognizer\n",
    "    for (x, y, w, h) in faces:\n",
    "        \n",
    "        # region of interest: the part which shows your face\n",
    "        roi_gray = gray[y: y+h, x: x+w]\n",
    "        roi_color = frame[y: y+h, x: x+w]\n",
    "        \n",
    "        # saves the img\n",
    "        gray_img_item = \"my-gray-image.png\"\n",
    "        colored_img_item = \"my-colored-image.png\"\n",
    "        cv2.imwrite(gray_img_item, roi_gray)\n",
    "        cv2.imwrite(colored_img_item, roi_color)\n",
    "                    \n",
    "        # Draws box if face is seen\n",
    "        blue_color = (0, 255, 0) # BGR scale\n",
    "        stroke = 2\n",
    "        end_cord_x = x + w\n",
    "        end_cord_y = y + h\n",
    "        cv2.rectangle(frame, (x, y), (end_cord_x, end_cord_y), blue_color, stroke)        \n",
    "        \n",
    "        # Moves mouse to the face position         \n",
    "        MousePosX = x + w/2\n",
    "        MousePosY = y + h/2\n",
    "        MoveMouse(MousePosX, MousePosY)\n",
    "    \n",
    "    if ret == True:\n",
    "        \n",
    "        # Display the resulting frame\n",
    "        cv2.imshow('frame',frame)\n",
    "        if cv2.waitKey(1) & 0xFF == ord('q'):\n",
    "            break\n",
    "    else:\n",
    "        break\n",
    "        \n",
    "# When everything done, release everything\n",
    "cap.release()\n",
    "cv2.destroyAllWindows()"
   ]
  },
  {
   "cell_type": "markdown",
   "metadata": {},
   "source": [
    "# Train Faces"
   ]
  },
  {
   "cell_type": "code",
   "execution_count": 25,
   "metadata": {},
   "outputs": [],
   "source": [
    "BASE_DIR = os.path.dirname(os.path.abspath(\"\"))\n",
    "image_dir = os.path.join(BASE_DIR, \"live_face_recognition\\data\\images\")\n",
    "\n",
    "face_cascade = cv2.CascadeClassifier('data/cascades/haarcascade_frontalface_alt2.xml')\n",
    "recognizer = cv2.face.LBPHFaceRecognizer_create()\n",
    "\n",
    "current_id = 0\n",
    "label_ids = {}\n",
    "y_labels = []\n",
    "x_train = []\n",
    "\n",
    "for root, dirs, files in os.walk(image_dir):\n",
    "    for file in files:\n",
    "        if file.endswith(\"png\") or file.endswith(\"jpg\") or file.endswith(\"jpeg\"):\n",
    "            path = os.path.join(root, file)\n",
    "            label = os.path.basename(os.path.dirname(path)).lower()\n",
    "            \n",
    "            if not label in label_ids:\n",
    "                label_ids[label] = current_id\n",
    "                current_id += 1\n",
    "            id_ = label_ids[label]\n",
    "            \n",
    "            pil_image = Image.open(path).convert(\"L\") # greyscales the img\n",
    "            image_array = np.array(pil_image, \"uint8\")\n",
    "            faces = face_cascade.detectMultiScale(image_array, scaleFactor = 1.5, minNeighbors = 5)\n",
    "            \n",
    "            for (x, y, w, h) in faces:\n",
    "                roi = image_array[y: y+h, x: x+w]\n",
    "                x_train.append(roi)\n",
    "                y_labels.append(id_)\n",
    "\n",
    "with open(\"labels.pickle\", \"wb\") as f:\n",
    "    pickle.dump(label_ids, f)\n",
    "    \n",
    "recognizer.train(x_train, np.array(y_labels))\n",
    "recognizer.save(\"trainer.yml\")"
   ]
  }
 ],
 "metadata": {
  "kernelspec": {
   "display_name": "Python 3",
   "language": "python",
   "name": "python3"
  },
  "language_info": {
   "codemirror_mode": {
    "name": "ipython",
    "version": 3
   },
   "file_extension": ".py",
   "mimetype": "text/x-python",
   "name": "python",
   "nbconvert_exporter": "python",
   "pygments_lexer": "ipython3",
   "version": "3.7.1"
  }
 },
 "nbformat": 4,
 "nbformat_minor": 2
}
